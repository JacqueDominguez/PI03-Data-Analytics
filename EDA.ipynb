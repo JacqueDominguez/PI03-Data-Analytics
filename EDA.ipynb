{
  "cells": [
    {
      "cell_type": "markdown",
      "metadata": {
        "id": "nCZ7ZBR3pUEW"
      },
      "source": [
        "Importar las librerias necesarias para realizar el análisis exploratorio de datos.\n"
      ]
    },
    {
      "cell_type": "code",
      "execution_count": 1,
      "metadata": {
        "id": "vkhkVuH3o-CV"
      },
      "outputs": [],
      "source": [
        "import pandas as pd\n",
        "import numpy as np\n",
        "import matplotlib.pyplot as plt\n",
        "import seaborn as sns"
      ]
    },
    {
      "cell_type": "markdown",
      "metadata": {
        "id": "ATKs6udtpwT0"
      },
      "source": [
        "Leer los datos"
      ]
    },
    {
      "cell_type": "code",
      "execution_count": 2,
      "metadata": {
        "id": "OY8oICHvpv6f"
      },
      "outputs": [],
      "source": [
        "dfcc= pd.read_csv('D:\\Desktop\\PI03\\Datasets\\Coursera_courses.csv') #Coursera courses\n",
        "dfcr= pd.read_csv(r'D:\\Desktop\\PI03\\Datasets\\Coursera_reviews.csv') #Coursera reviews\n",
        "dfe= pd.read_csv('D:\\Desktop\\PI03\\Datasets\\edx_courses.csv') #Edx courses\n",
        "dfu= pd.read_csv(r'D:\\Desktop\\PI03\\Datasets\\udemy_courses.csv' ,sep = ',') #Udemy courses"
      ]
    },
    {
      "cell_type": "code",
      "execution_count": 3,
      "metadata": {},
      "outputs": [],
      "source": [
        "dfc=pd.merge(dfcc, dfcr, on='course_id')#Unificamos los datasets a través de course_id"
      ]
    },
    {
      "attachments": {},
      "cell_type": "markdown",
      "metadata": {
        "id": "I-JHxmHkwzGO"
      },
      "source": [
        "###Exploremos los datos"
      ]
    },
    {
      "attachments": {},
      "cell_type": "markdown",
      "metadata": {
        "id": "yWvjBa8tqeLe"
      },
      "source": [
        "Comprender el dataset visulizando las primeras 5 filas."
      ]
    },
    {
      "cell_type": "code",
      "execution_count": 4,
      "metadata": {
        "colab": {
          "base_uri": "https://localhost:8080/",
          "height": 629
        },
        "id": "NVCnS7UIrS3m",
        "outputId": "5be31346-61f6-49f6-b0e8-397b54687b6b"
      },
      "outputs": [
        {
          "data": {
            "text/html": [
              "<div>\n",
              "<style scoped>\n",
              "    .dataframe tbody tr th:only-of-type {\n",
              "        vertical-align: middle;\n",
              "    }\n",
              "\n",
              "    .dataframe tbody tr th {\n",
              "        vertical-align: top;\n",
              "    }\n",
              "\n",
              "    .dataframe thead th {\n",
              "        text-align: right;\n",
              "    }\n",
              "</style>\n",
              "<table border=\"1\" class=\"dataframe\">\n",
              "  <thead>\n",
              "    <tr style=\"text-align: right;\">\n",
              "      <th></th>\n",
              "      <th>name</th>\n",
              "      <th>institution</th>\n",
              "      <th>course_url</th>\n",
              "      <th>course_id</th>\n",
              "      <th>reviews</th>\n",
              "      <th>reviewers</th>\n",
              "      <th>date_reviews</th>\n",
              "      <th>rating</th>\n",
              "    </tr>\n",
              "  </thead>\n",
              "  <tbody>\n",
              "    <tr>\n",
              "      <th>0</th>\n",
              "      <td>Machine Learning</td>\n",
              "      <td>Stanford University</td>\n",
              "      <td>https://www.coursera.org/learn/machine-learning</td>\n",
              "      <td>machine-learning</td>\n",
              "      <td>This is an extremely basic course. Machine lea...</td>\n",
              "      <td>By Deleted A</td>\n",
              "      <td>Mar 18, 2017</td>\n",
              "      <td>1</td>\n",
              "    </tr>\n",
              "    <tr>\n",
              "      <th>1</th>\n",
              "      <td>Machine Learning</td>\n",
              "      <td>Stanford University</td>\n",
              "      <td>https://www.coursera.org/learn/machine-learning</td>\n",
              "      <td>machine-learning</td>\n",
              "      <td>The course is ok but the certification procedu...</td>\n",
              "      <td>By Bruno C</td>\n",
              "      <td>Nov 09, 2015</td>\n",
              "      <td>1</td>\n",
              "    </tr>\n",
              "    <tr>\n",
              "      <th>2</th>\n",
              "      <td>Machine Learning</td>\n",
              "      <td>Stanford University</td>\n",
              "      <td>https://www.coursera.org/learn/machine-learning</td>\n",
              "      <td>machine-learning</td>\n",
              "      <td>I just started week 3 , I have to admit that I...</td>\n",
              "      <td>By Fadi</td>\n",
              "      <td>Apr 15, 2019</td>\n",
              "      <td>1</td>\n",
              "    </tr>\n",
              "    <tr>\n",
              "      <th>3</th>\n",
              "      <td>Machine Learning</td>\n",
              "      <td>Stanford University</td>\n",
              "      <td>https://www.coursera.org/learn/machine-learning</td>\n",
              "      <td>machine-learning</td>\n",
              "      <td>This course is absolute garbage.  You get no f...</td>\n",
              "      <td>By Mathew L</td>\n",
              "      <td>Sep 25, 2015</td>\n",
              "      <td>1</td>\n",
              "    </tr>\n",
              "    <tr>\n",
              "      <th>4</th>\n",
              "      <td>Machine Learning</td>\n",
              "      <td>Stanford University</td>\n",
              "      <td>https://www.coursera.org/learn/machine-learning</td>\n",
              "      <td>machine-learning</td>\n",
              "      <td>However good the material and lectures may be,...</td>\n",
              "      <td>By Rui C</td>\n",
              "      <td>Dec 12, 2015</td>\n",
              "      <td>1</td>\n",
              "    </tr>\n",
              "  </tbody>\n",
              "</table>\n",
              "</div>"
            ],
            "text/plain": [
              "               name          institution  \\\n",
              "0  Machine Learning  Stanford University   \n",
              "1  Machine Learning  Stanford University   \n",
              "2  Machine Learning  Stanford University   \n",
              "3  Machine Learning  Stanford University   \n",
              "4  Machine Learning  Stanford University   \n",
              "\n",
              "                                        course_url         course_id  \\\n",
              "0  https://www.coursera.org/learn/machine-learning  machine-learning   \n",
              "1  https://www.coursera.org/learn/machine-learning  machine-learning   \n",
              "2  https://www.coursera.org/learn/machine-learning  machine-learning   \n",
              "3  https://www.coursera.org/learn/machine-learning  machine-learning   \n",
              "4  https://www.coursera.org/learn/machine-learning  machine-learning   \n",
              "\n",
              "                                             reviews     reviewers  \\\n",
              "0  This is an extremely basic course. Machine lea...  By Deleted A   \n",
              "1  The course is ok but the certification procedu...    By Bruno C   \n",
              "2  I just started week 3 , I have to admit that I...       By Fadi   \n",
              "3  This course is absolute garbage.  You get no f...   By Mathew L   \n",
              "4  However good the material and lectures may be,...      By Rui C   \n",
              "\n",
              "   date_reviews  rating  \n",
              "0  Mar 18, 2017       1  \n",
              "1  Nov 09, 2015       1  \n",
              "2  Apr 15, 2019       1  \n",
              "3  Sep 25, 2015       1  \n",
              "4  Dec 12, 2015       1  "
            ]
          },
          "execution_count": 4,
          "metadata": {},
          "output_type": "execute_result"
        }
      ],
      "source": [
        "dfc.head(5)"
      ]
    },
    {
      "cell_type": "code",
      "execution_count": 5,
      "metadata": {},
      "outputs": [
        {
          "data": {
            "text/html": [
              "<div>\n",
              "<style scoped>\n",
              "    .dataframe tbody tr th:only-of-type {\n",
              "        vertical-align: middle;\n",
              "    }\n",
              "\n",
              "    .dataframe tbody tr th {\n",
              "        vertical-align: top;\n",
              "    }\n",
              "\n",
              "    .dataframe thead th {\n",
              "        text-align: right;\n",
              "    }\n",
              "</style>\n",
              "<table border=\"1\" class=\"dataframe\">\n",
              "  <thead>\n",
              "    <tr style=\"text-align: right;\">\n",
              "      <th></th>\n",
              "      <th>title</th>\n",
              "      <th>summary</th>\n",
              "      <th>n_enrolled</th>\n",
              "      <th>course_type</th>\n",
              "      <th>institution</th>\n",
              "      <th>instructors</th>\n",
              "      <th>Level</th>\n",
              "      <th>subject</th>\n",
              "      <th>language</th>\n",
              "      <th>subtitles</th>\n",
              "      <th>course_effort</th>\n",
              "      <th>course_length</th>\n",
              "      <th>price</th>\n",
              "      <th>course_description</th>\n",
              "      <th>course_syllabus</th>\n",
              "      <th>course_url</th>\n",
              "    </tr>\n",
              "  </thead>\n",
              "  <tbody>\n",
              "    <tr>\n",
              "      <th>0</th>\n",
              "      <td>How to Learn Online</td>\n",
              "      <td>Learn essential strategies for successful onli...</td>\n",
              "      <td>124,980</td>\n",
              "      <td>Self-paced on your time</td>\n",
              "      <td>edX</td>\n",
              "      <td>Nina Huntemann-Robyn Belair-Ben Piscopo</td>\n",
              "      <td>Introductory</td>\n",
              "      <td>Education &amp; Teacher Training</td>\n",
              "      <td>English</td>\n",
              "      <td>English</td>\n",
              "      <td>2–3 hours per week</td>\n",
              "      <td>2 Weeks</td>\n",
              "      <td>FREE-Add a Verified Certificate for $49 USD</td>\n",
              "      <td>Designed for those who are new to elearning, t...</td>\n",
              "      <td>Welcome - We start with opportunities to meet ...</td>\n",
              "      <td>https://www.edx.org/course/how-to-learn-online</td>\n",
              "    </tr>\n",
              "    <tr>\n",
              "      <th>1</th>\n",
              "      <td>Programming for Everybody (Getting Started wit...</td>\n",
              "      <td>This course is a \"no prerequisite\" introductio...</td>\n",
              "      <td>293,864</td>\n",
              "      <td>Self-paced on your time</td>\n",
              "      <td>The University of Michigan</td>\n",
              "      <td>Charles Severance</td>\n",
              "      <td>Introductory</td>\n",
              "      <td>Computer Science</td>\n",
              "      <td>English</td>\n",
              "      <td>English</td>\n",
              "      <td>2–4 hours per week</td>\n",
              "      <td>7 Weeks</td>\n",
              "      <td>FREE-Add a Verified Certificate for $49 USD</td>\n",
              "      <td>This course aims to teach everyone the basics ...</td>\n",
              "      <td>NaN</td>\n",
              "      <td>https://www.edx.org/course/programming-for-eve...</td>\n",
              "    </tr>\n",
              "    <tr>\n",
              "      <th>2</th>\n",
              "      <td>CS50's Introduction to Computer Science</td>\n",
              "      <td>An introduction to the intellectual enterprise...</td>\n",
              "      <td>2,442,271</td>\n",
              "      <td>Self-paced on your time</td>\n",
              "      <td>Harvard University</td>\n",
              "      <td>David J. Malan-Doug Lloyd-Brian Yu</td>\n",
              "      <td>Introductory</td>\n",
              "      <td>Computer Science</td>\n",
              "      <td>English</td>\n",
              "      <td>English</td>\n",
              "      <td>6–18 hours per week</td>\n",
              "      <td>12 Weeks</td>\n",
              "      <td>FREE-Add a Verified Certificate for $90 USD</td>\n",
              "      <td>This is CS50x , Harvard University's introduct...</td>\n",
              "      <td>NaN</td>\n",
              "      <td>https://www.edx.org/course/cs50s-introduction-...</td>\n",
              "    </tr>\n",
              "    <tr>\n",
              "      <th>3</th>\n",
              "      <td>The Analytics Edge</td>\n",
              "      <td>Through inspiring examples and stories, discov...</td>\n",
              "      <td>129,555</td>\n",
              "      <td>Instructor-led on a course schedule</td>\n",
              "      <td>Massachusetts Institute of Technology</td>\n",
              "      <td>Dimitris Bertsimas-Allison O'Hair-John Silberh...</td>\n",
              "      <td>Intermediate</td>\n",
              "      <td>Data Analysis &amp; Statistics</td>\n",
              "      <td>English</td>\n",
              "      <td>English</td>\n",
              "      <td>10–15 hours per week</td>\n",
              "      <td>13 Weeks</td>\n",
              "      <td>FREE-Add a Verified Certificate for $199 USD</td>\n",
              "      <td>In the last decade, the amount of data availab...</td>\n",
              "      <td>NaN</td>\n",
              "      <td>https://www.edx.org/course/the-analytics-edge</td>\n",
              "    </tr>\n",
              "    <tr>\n",
              "      <th>4</th>\n",
              "      <td>Marketing Analytics: Marketing Measurement Str...</td>\n",
              "      <td>This course is part of a MicroMasters® Program</td>\n",
              "      <td>81,140</td>\n",
              "      <td>Self-paced on your time</td>\n",
              "      <td>University of California, Berkeley</td>\n",
              "      <td>Stephan Sorger</td>\n",
              "      <td>Introductory</td>\n",
              "      <td>Computer Science</td>\n",
              "      <td>English</td>\n",
              "      <td>English</td>\n",
              "      <td>5–7 hours per week</td>\n",
              "      <td>4 Weeks</td>\n",
              "      <td>FREE-Add a Verified Certificate for $249 USD</td>\n",
              "      <td>Begin your journey in a new career in marketin...</td>\n",
              "      <td>NaN</td>\n",
              "      <td>https://www.edx.org/course/marketing-analytics...</td>\n",
              "    </tr>\n",
              "  </tbody>\n",
              "</table>\n",
              "</div>"
            ],
            "text/plain": [
              "                                               title  \\\n",
              "0                                How to Learn Online   \n",
              "1  Programming for Everybody (Getting Started wit...   \n",
              "2            CS50's Introduction to Computer Science   \n",
              "3                                 The Analytics Edge   \n",
              "4  Marketing Analytics: Marketing Measurement Str...   \n",
              "\n",
              "                                             summary n_enrolled  \\\n",
              "0  Learn essential strategies for successful onli...    124,980   \n",
              "1  This course is a \"no prerequisite\" introductio...    293,864   \n",
              "2  An introduction to the intellectual enterprise...  2,442,271   \n",
              "3  Through inspiring examples and stories, discov...    129,555   \n",
              "4     This course is part of a MicroMasters® Program     81,140   \n",
              "\n",
              "                           course_type                            institution  \\\n",
              "0              Self-paced on your time                                    edX   \n",
              "1              Self-paced on your time             The University of Michigan   \n",
              "2              Self-paced on your time                     Harvard University   \n",
              "3  Instructor-led on a course schedule  Massachusetts Institute of Technology   \n",
              "4              Self-paced on your time     University of California, Berkeley   \n",
              "\n",
              "                                         instructors         Level  \\\n",
              "0            Nina Huntemann-Robyn Belair-Ben Piscopo  Introductory   \n",
              "1                                  Charles Severance  Introductory   \n",
              "2                 David J. Malan-Doug Lloyd-Brian Yu  Introductory   \n",
              "3  Dimitris Bertsimas-Allison O'Hair-John Silberh...  Intermediate   \n",
              "4                                     Stephan Sorger  Introductory   \n",
              "\n",
              "                        subject language subtitles         course_effort  \\\n",
              "0  Education & Teacher Training  English   English    2–3 hours per week   \n",
              "1              Computer Science  English   English    2–4 hours per week   \n",
              "2              Computer Science  English   English   6–18 hours per week   \n",
              "3    Data Analysis & Statistics  English   English  10–15 hours per week   \n",
              "4              Computer Science  English   English    5–7 hours per week   \n",
              "\n",
              "  course_length                                         price  \\\n",
              "0       2 Weeks   FREE-Add a Verified Certificate for $49 USD   \n",
              "1       7 Weeks   FREE-Add a Verified Certificate for $49 USD   \n",
              "2      12 Weeks   FREE-Add a Verified Certificate for $90 USD   \n",
              "3      13 Weeks  FREE-Add a Verified Certificate for $199 USD   \n",
              "4       4 Weeks  FREE-Add a Verified Certificate for $249 USD   \n",
              "\n",
              "                                  course_description  \\\n",
              "0  Designed for those who are new to elearning, t...   \n",
              "1  This course aims to teach everyone the basics ...   \n",
              "2  This is CS50x , Harvard University's introduct...   \n",
              "3  In the last decade, the amount of data availab...   \n",
              "4  Begin your journey in a new career in marketin...   \n",
              "\n",
              "                                     course_syllabus  \\\n",
              "0  Welcome - We start with opportunities to meet ...   \n",
              "1                                                NaN   \n",
              "2                                                NaN   \n",
              "3                                                NaN   \n",
              "4                                                NaN   \n",
              "\n",
              "                                          course_url  \n",
              "0     https://www.edx.org/course/how-to-learn-online  \n",
              "1  https://www.edx.org/course/programming-for-eve...  \n",
              "2  https://www.edx.org/course/cs50s-introduction-...  \n",
              "3      https://www.edx.org/course/the-analytics-edge  \n",
              "4  https://www.edx.org/course/marketing-analytics...  "
            ]
          },
          "execution_count": 5,
          "metadata": {},
          "output_type": "execute_result"
        }
      ],
      "source": [
        "dfe.head(5)"
      ]
    },
    {
      "cell_type": "code",
      "execution_count": 6,
      "metadata": {},
      "outputs": [
        {
          "data": {
            "text/html": [
              "<div>\n",
              "<style scoped>\n",
              "    .dataframe tbody tr th:only-of-type {\n",
              "        vertical-align: middle;\n",
              "    }\n",
              "\n",
              "    .dataframe tbody tr th {\n",
              "        vertical-align: top;\n",
              "    }\n",
              "\n",
              "    .dataframe thead th {\n",
              "        text-align: right;\n",
              "    }\n",
              "</style>\n",
              "<table border=\"1\" class=\"dataframe\">\n",
              "  <thead>\n",
              "    <tr style=\"text-align: right;\">\n",
              "      <th></th>\n",
              "      <th>course_id</th>\n",
              "      <th>course_title</th>\n",
              "      <th>url</th>\n",
              "      <th>is_paid</th>\n",
              "      <th>price</th>\n",
              "      <th>num_subscribers</th>\n",
              "      <th>num_reviews</th>\n",
              "      <th>num_lectures</th>\n",
              "      <th>level</th>\n",
              "      <th>content_duration</th>\n",
              "      <th>published_timestamp</th>\n",
              "      <th>subject</th>\n",
              "    </tr>\n",
              "  </thead>\n",
              "  <tbody>\n",
              "    <tr>\n",
              "      <th>0</th>\n",
              "      <td>1070968</td>\n",
              "      <td>Ultimate Investment Banking Course</td>\n",
              "      <td>https://www.udemy.com/ultimate-investment-bank...</td>\n",
              "      <td>True</td>\n",
              "      <td>200</td>\n",
              "      <td>2147</td>\n",
              "      <td>23</td>\n",
              "      <td>51</td>\n",
              "      <td>All Levels</td>\n",
              "      <td>1.5</td>\n",
              "      <td>2017-01-18T20:58:58Z</td>\n",
              "      <td>Business Finance</td>\n",
              "    </tr>\n",
              "    <tr>\n",
              "      <th>1</th>\n",
              "      <td>1113822</td>\n",
              "      <td>Complete GST Course &amp; Certification - Grow You...</td>\n",
              "      <td>https://www.udemy.com/goods-and-services-tax/</td>\n",
              "      <td>True</td>\n",
              "      <td>75</td>\n",
              "      <td>2792</td>\n",
              "      <td>923</td>\n",
              "      <td>274</td>\n",
              "      <td>All Levels</td>\n",
              "      <td>39.0</td>\n",
              "      <td>2017-03-09T16:34:20Z</td>\n",
              "      <td>Business Finance</td>\n",
              "    </tr>\n",
              "    <tr>\n",
              "      <th>2</th>\n",
              "      <td>1006314</td>\n",
              "      <td>Financial Modeling for Business Analysts and C...</td>\n",
              "      <td>https://www.udemy.com/financial-modeling-for-b...</td>\n",
              "      <td>True</td>\n",
              "      <td>45</td>\n",
              "      <td>2174</td>\n",
              "      <td>74</td>\n",
              "      <td>51</td>\n",
              "      <td>Intermediate Level</td>\n",
              "      <td>2.5</td>\n",
              "      <td>2016-12-19T19:26:30Z</td>\n",
              "      <td>Business Finance</td>\n",
              "    </tr>\n",
              "    <tr>\n",
              "      <th>3</th>\n",
              "      <td>1210588</td>\n",
              "      <td>Beginner to Pro - Financial Analysis in Excel ...</td>\n",
              "      <td>https://www.udemy.com/complete-excel-finance-c...</td>\n",
              "      <td>True</td>\n",
              "      <td>95</td>\n",
              "      <td>2451</td>\n",
              "      <td>11</td>\n",
              "      <td>36</td>\n",
              "      <td>All Levels</td>\n",
              "      <td>3.0</td>\n",
              "      <td>2017-05-30T20:07:24Z</td>\n",
              "      <td>Business Finance</td>\n",
              "    </tr>\n",
              "    <tr>\n",
              "      <th>4</th>\n",
              "      <td>1011058</td>\n",
              "      <td>How To Maximize Your Profits Trading Options</td>\n",
              "      <td>https://www.udemy.com/how-to-maximize-your-pro...</td>\n",
              "      <td>True</td>\n",
              "      <td>200</td>\n",
              "      <td>1276</td>\n",
              "      <td>45</td>\n",
              "      <td>26</td>\n",
              "      <td>Intermediate Level</td>\n",
              "      <td>2.0</td>\n",
              "      <td>2016-12-13T14:57:18Z</td>\n",
              "      <td>Business Finance</td>\n",
              "    </tr>\n",
              "  </tbody>\n",
              "</table>\n",
              "</div>"
            ],
            "text/plain": [
              "   course_id                                       course_title  \\\n",
              "0    1070968                 Ultimate Investment Banking Course   \n",
              "1    1113822  Complete GST Course & Certification - Grow You...   \n",
              "2    1006314  Financial Modeling for Business Analysts and C...   \n",
              "3    1210588  Beginner to Pro - Financial Analysis in Excel ...   \n",
              "4    1011058       How To Maximize Your Profits Trading Options   \n",
              "\n",
              "                                                 url  is_paid  price  \\\n",
              "0  https://www.udemy.com/ultimate-investment-bank...     True    200   \n",
              "1      https://www.udemy.com/goods-and-services-tax/     True     75   \n",
              "2  https://www.udemy.com/financial-modeling-for-b...     True     45   \n",
              "3  https://www.udemy.com/complete-excel-finance-c...     True     95   \n",
              "4  https://www.udemy.com/how-to-maximize-your-pro...     True    200   \n",
              "\n",
              "   num_subscribers  num_reviews  num_lectures               level  \\\n",
              "0             2147           23            51          All Levels   \n",
              "1             2792          923           274          All Levels   \n",
              "2             2174           74            51  Intermediate Level   \n",
              "3             2451           11            36          All Levels   \n",
              "4             1276           45            26  Intermediate Level   \n",
              "\n",
              "   content_duration   published_timestamp           subject  \n",
              "0               1.5  2017-01-18T20:58:58Z  Business Finance  \n",
              "1              39.0  2017-03-09T16:34:20Z  Business Finance  \n",
              "2               2.5  2016-12-19T19:26:30Z  Business Finance  \n",
              "3               3.0  2017-05-30T20:07:24Z  Business Finance  \n",
              "4               2.0  2016-12-13T14:57:18Z  Business Finance  "
            ]
          },
          "execution_count": 6,
          "metadata": {},
          "output_type": "execute_result"
        }
      ],
      "source": [
        "dfu.head(5)"
      ]
    },
    {
      "attachments": {},
      "cell_type": "markdown",
      "metadata": {
        "id": "7cGb5-ODwKVZ"
      },
      "source": [
        "¿Qué tamaño tienen los dataframes?"
      ]
    },
    {
      "cell_type": "code",
      "execution_count": 7,
      "metadata": {
        "colab": {
          "base_uri": "https://localhost:8080/"
        },
        "id": "ICcyjrJQwA_H",
        "outputId": "81b53997-e4de-4c5a-c2bc-02928ef5aff7"
      },
      "outputs": [
        {
          "data": {
            "text/plain": [
              "((1454711, 8), (975, 16), (3678, 12))"
            ]
          },
          "execution_count": 7,
          "metadata": {},
          "output_type": "execute_result"
        }
      ],
      "source": [
        "dfc.shape , dfe.shape, dfu.shape"
      ]
    },
    {
      "attachments": {},
      "cell_type": "markdown",
      "metadata": {
        "id": "SAOoODyKweZs"
      },
      "source": [
        "¿Qué tipo de datos contiene cada columna? "
      ]
    },
    {
      "cell_type": "code",
      "execution_count": 8,
      "metadata": {
        "colab": {
          "base_uri": "https://localhost:8080/"
        },
        "id": "X5vuurJpqdqp",
        "outputId": "e07ee1ac-c217-4908-dc1d-a2e560504fa7"
      },
      "outputs": [
        {
          "name": "stdout",
          "output_type": "stream",
          "text": [
            "<class 'pandas.core.frame.DataFrame'>\n",
            "Int64Index: 1454711 entries, 0 to 1454710\n",
            "Data columns (total 8 columns):\n",
            " #   Column        Non-Null Count    Dtype \n",
            "---  ------        --------------    ----- \n",
            " 0   name          1454711 non-null  object\n",
            " 1   institution   1454711 non-null  object\n",
            " 2   course_url    1454711 non-null  object\n",
            " 3   course_id     1454711 non-null  object\n",
            " 4   reviews       1454571 non-null  object\n",
            " 5   reviewers     1454711 non-null  object\n",
            " 6   date_reviews  1454711 non-null  object\n",
            " 7   rating        1454711 non-null  int64 \n",
            "dtypes: int64(1), object(7)\n",
            "memory usage: 99.9+ MB\n"
          ]
        }
      ],
      "source": [
        "dfc.info() "
      ]
    },
    {
      "cell_type": "code",
      "execution_count": 9,
      "metadata": {},
      "outputs": [
        {
          "name": "stdout",
          "output_type": "stream",
          "text": [
            "<class 'pandas.core.frame.DataFrame'>\n",
            "RangeIndex: 975 entries, 0 to 974\n",
            "Data columns (total 16 columns):\n",
            " #   Column              Non-Null Count  Dtype \n",
            "---  ------              --------------  ----- \n",
            " 0   title               975 non-null    object\n",
            " 1   summary             922 non-null    object\n",
            " 2   n_enrolled          855 non-null    object\n",
            " 3   course_type         975 non-null    object\n",
            " 4   institution         975 non-null    object\n",
            " 5   instructors         972 non-null    object\n",
            " 6   Level               975 non-null    object\n",
            " 7   subject             975 non-null    object\n",
            " 8   language            975 non-null    object\n",
            " 9   subtitles           972 non-null    object\n",
            " 10  course_effort       975 non-null    object\n",
            " 11  course_length       975 non-null    object\n",
            " 12  price               975 non-null    object\n",
            " 13  course_description  935 non-null    object\n",
            " 14  course_syllabus     417 non-null    object\n",
            " 15  course_url          975 non-null    object\n",
            "dtypes: object(16)\n",
            "memory usage: 122.0+ KB\n"
          ]
        }
      ],
      "source": [
        "dfe.info()"
      ]
    },
    {
      "cell_type": "code",
      "execution_count": 10,
      "metadata": {},
      "outputs": [
        {
          "name": "stdout",
          "output_type": "stream",
          "text": [
            "<class 'pandas.core.frame.DataFrame'>\n",
            "RangeIndex: 3678 entries, 0 to 3677\n",
            "Data columns (total 12 columns):\n",
            " #   Column               Non-Null Count  Dtype  \n",
            "---  ------               --------------  -----  \n",
            " 0   course_id            3678 non-null   int64  \n",
            " 1   course_title         3678 non-null   object \n",
            " 2   url                  3678 non-null   object \n",
            " 3   is_paid              3678 non-null   bool   \n",
            " 4   price                3678 non-null   int64  \n",
            " 5   num_subscribers      3678 non-null   int64  \n",
            " 6   num_reviews          3678 non-null   int64  \n",
            " 7   num_lectures         3678 non-null   int64  \n",
            " 8   level                3678 non-null   object \n",
            " 9   content_duration     3678 non-null   float64\n",
            " 10  published_timestamp  3678 non-null   object \n",
            " 11  subject              3678 non-null   object \n",
            "dtypes: bool(1), float64(1), int64(5), object(5)\n",
            "memory usage: 319.8+ KB\n"
          ]
        }
      ],
      "source": [
        "dfu.info()"
      ]
    },
    {
      "attachments": {},
      "cell_type": "markdown",
      "metadata": {
        "id": "cVspZlXUwfR-"
      },
      "source": [
        "¿Cuantas columnas de cada tipo de dato tenemos en el dataframe?"
      ]
    },
    {
      "cell_type": "code",
      "execution_count": 11,
      "metadata": {
        "colab": {
          "base_uri": "https://localhost:8080/"
        },
        "id": "eoGgY7FLxKOK",
        "outputId": "d103392e-ab71-4a1e-b052-c4026850dfdc"
      },
      "outputs": [
        {
          "data": {
            "text/plain": [
              "object    7\n",
              "int64     1\n",
              "dtype: int64"
            ]
          },
          "execution_count": 11,
          "metadata": {},
          "output_type": "execute_result"
        }
      ],
      "source": [
        "dfc.dtypes.value_counts()"
      ]
    },
    {
      "attachments": {},
      "cell_type": "markdown",
      "metadata": {},
      "source": [
        "Hay un problema, no tenemos variables de tipo numérico por lo que habrá que transformarlas"
      ]
    },
    {
      "cell_type": "code",
      "execution_count": 12,
      "metadata": {},
      "outputs": [
        {
          "data": {
            "text/plain": [
              "object    16\n",
              "dtype: int64"
            ]
          },
          "execution_count": 12,
          "metadata": {},
          "output_type": "execute_result"
        }
      ],
      "source": [
        "dfe.dtypes.value_counts()"
      ]
    },
    {
      "cell_type": "code",
      "execution_count": 13,
      "metadata": {},
      "outputs": [
        {
          "data": {
            "text/plain": [
              "int64      5\n",
              "object     5\n",
              "bool       1\n",
              "float64    1\n",
              "dtype: int64"
            ]
          },
          "execution_count": 13,
          "metadata": {},
          "output_type": "execute_result"
        }
      ],
      "source": [
        "dfu.dtypes.value_counts()"
      ]
    },
    {
      "attachments": {},
      "cell_type": "markdown",
      "metadata": {
        "id": "HFW8F4_W89TH"
      },
      "source": [
        "Analicemos los valores nulos ¿Cuántos valores nulos tenemos en el total en el conjunto de datos?"
      ]
    },
    {
      "cell_type": "code",
      "execution_count": 14,
      "metadata": {
        "colab": {
          "base_uri": "https://localhost:8080/"
        },
        "id": "ysP27I6w8nJN",
        "outputId": "251346ce-4974-4b18-ea24-5dab2d7b0a8d"
      },
      "outputs": [
        {
          "data": {
            "text/plain": [
              "140"
            ]
          },
          "execution_count": 14,
          "metadata": {},
          "output_type": "execute_result"
        }
      ],
      "source": [
        "dfc.isnull().sum().sum()"
      ]
    },
    {
      "cell_type": "code",
      "execution_count": 15,
      "metadata": {},
      "outputs": [
        {
          "data": {
            "text/plain": [
              "777"
            ]
          },
          "execution_count": 15,
          "metadata": {},
          "output_type": "execute_result"
        }
      ],
      "source": [
        "dfe.isnull().sum().sum()"
      ]
    },
    {
      "cell_type": "code",
      "execution_count": 16,
      "metadata": {},
      "outputs": [
        {
          "data": {
            "text/plain": [
              "0"
            ]
          },
          "execution_count": 16,
          "metadata": {},
          "output_type": "execute_result"
        }
      ],
      "source": [
        "dfu.isnull().sum().sum()"
      ]
    },
    {
      "cell_type": "markdown",
      "metadata": {
        "id": "nwrh9c7y9D82"
      },
      "source": [
        "¿Cuántos tenemos por cada dimensión?"
      ]
    },
    {
      "cell_type": "code",
      "execution_count": 17,
      "metadata": {
        "colab": {
          "base_uri": "https://localhost:8080/"
        },
        "id": "ivav8gu29DWS",
        "outputId": "04c146b0-d4f6-4ba4-df34-7fcaaec441dd"
      },
      "outputs": [
        {
          "data": {
            "text/plain": [
              "name              0\n",
              "institution       0\n",
              "course_url        0\n",
              "course_id         0\n",
              "reviews         140\n",
              "reviewers         0\n",
              "date_reviews      0\n",
              "rating            0\n",
              "dtype: int64"
            ]
          },
          "execution_count": 17,
          "metadata": {},
          "output_type": "execute_result"
        }
      ],
      "source": [
        "dfc.isnull().sum()"
      ]
    },
    {
      "cell_type": "code",
      "execution_count": 18,
      "metadata": {},
      "outputs": [
        {
          "data": {
            "text/plain": [
              "title                   0\n",
              "summary                53\n",
              "n_enrolled            120\n",
              "course_type             0\n",
              "institution             0\n",
              "instructors             3\n",
              "Level                   0\n",
              "subject                 0\n",
              "language                0\n",
              "subtitles               3\n",
              "course_effort           0\n",
              "course_length           0\n",
              "price                   0\n",
              "course_description     40\n",
              "course_syllabus       558\n",
              "course_url              0\n",
              "dtype: int64"
            ]
          },
          "execution_count": 18,
          "metadata": {},
          "output_type": "execute_result"
        }
      ],
      "source": [
        "dfe.isnull().sum()"
      ]
    },
    {
      "attachments": {},
      "cell_type": "markdown",
      "metadata": {
        "id": "vTQYP8nR9ao4"
      },
      "source": [
        "Graficamente observamos los valores nulos  del dataset dfe , ya es el que más nulos tiene ."
      ]
    },
    {
      "cell_type": "code",
      "execution_count": 19,
      "metadata": {
        "colab": {
          "base_uri": "https://localhost:8080/",
          "height": 320
        },
        "id": "ePLyrVyM9Uqk",
        "outputId": "55e2ed1e-3bcd-4f83-e62d-dc3904841983"
      },
      "outputs": [
        {
          "data": {
            "text/plain": [
              "<seaborn.axisgrid.FacetGrid at 0x1db57a8fe80>"
            ]
          },
          "execution_count": 19,
          "metadata": {},
          "output_type": "execute_result"
        },
        {
          "data": {
            "image/png": "[encoded data removed]",
            "text/plain": [
              "<Figure size 1584.88x500 with 1 Axes>"
            ]
          },
          "metadata": {},
          "output_type": "display_data"
        }
      ],
      "source": [
        "(dfe.isnull().melt().pipe(lambda df: (sns.displot(data=df,y='variable',hue='value',multiple='fill',aspect=3))))"
      ]
    },
    {
      "attachments": {},
      "cell_type": "markdown",
      "metadata": {},
      "source": [
        "Completamos los valores nulos."
      ]
    },
    {
      "cell_type": "code",
      "execution_count": 20,
      "metadata": {},
      "outputs": [],
      "source": [
        "dfc.reviews.fillna('Sin_Datos', inplace=True)\n",
        "dfe.course_syllabus.fillna('Sin_Datos', inplace=True)\n",
        "dfe.course_description.fillna('Sin_Datos', inplace=True)\n",
        "dfe.summary.fillna('Sin_Datos', inplace=True)\n",
        "dfe.instructors.fillna('Sin_Datos', inplace=True)\n",
        "dfe.subtitles.fillna('Sin_Datos', inplace=True)\n",
        "dfe.n_enrolled.fillna(0, inplace=True)"
      ]
    },
    {
      "cell_type": "code",
      "execution_count": 21,
      "metadata": {},
      "outputs": [
        {
          "data": {
            "text/plain": [
              "(0, 0)"
            ]
          },
          "execution_count": 21,
          "metadata": {},
          "output_type": "execute_result"
        }
      ],
      "source": [
        "dfc.isnull().sum().sum() ,dfe.isnull().sum().sum()"
      ]
    },
    {
      "attachments": {},
      "cell_type": "markdown",
      "metadata": {
        "id": "4S6DzdRz-1xG"
      },
      "source": [
        "Vamos a analizar los valores únicos de cada columna. "
      ]
    },
    {
      "attachments": {},
      "cell_type": "markdown",
      "metadata": {},
      "source": [
        "Coursera"
      ]
    },
    {
      "cell_type": "code",
      "execution_count": 22,
      "metadata": {},
      "outputs": [
        {
          "data": {
            "text/plain": [
              "603"
            ]
          },
          "execution_count": 22,
          "metadata": {},
          "output_type": "execute_result"
        }
      ],
      "source": [
        "c=dfc['name'].unique()\n",
        "c.size"
      ]
    },
    {
      "cell_type": "code",
      "execution_count": 23,
      "metadata": {},
      "outputs": [
        {
          "data": {
            "text/plain": [
              "132"
            ]
          },
          "execution_count": 23,
          "metadata": {},
          "output_type": "execute_result"
        }
      ],
      "source": [
        "c1=dfc['institution'].unique()\n",
        "c1.size"
      ]
    },
    {
      "cell_type": "code",
      "execution_count": 24,
      "metadata": {},
      "outputs": [
        {
          "data": {
            "text/plain": [
              "604"
            ]
          },
          "execution_count": 24,
          "metadata": {},
          "output_type": "execute_result"
        }
      ],
      "source": [
        "c2=dfc['course_id'].unique()\n",
        "c2.size"
      ]
    },
    {
      "cell_type": "code",
      "execution_count": 25,
      "metadata": {},
      "outputs": [
        {
          "data": {
            "text/plain": [
              "458278"
            ]
          },
          "execution_count": 25,
          "metadata": {},
          "output_type": "execute_result"
        }
      ],
      "source": [
        "c3=dfc['reviews'].unique()\n",
        "c3.size"
      ]
    },
    {
      "cell_type": "code",
      "execution_count": 26,
      "metadata": {},
      "outputs": [
        {
          "data": {
            "text/plain": [
              "287808"
            ]
          },
          "execution_count": 26,
          "metadata": {},
          "output_type": "execute_result"
        }
      ],
      "source": [
        "c4=dfc['reviewers'].unique()\n",
        "c4.size"
      ]
    },
    {
      "cell_type": "code",
      "execution_count": 27,
      "metadata": {},
      "outputs": [
        {
          "data": {
            "text/plain": [
              "1892"
            ]
          },
          "execution_count": 27,
          "metadata": {},
          "output_type": "execute_result"
        }
      ],
      "source": [
        "c5=dfc['date_reviews'].unique()\n",
        "c5.size"
      ]
    },
    {
      "cell_type": "code",
      "execution_count": 28,
      "metadata": {},
      "outputs": [
        {
          "data": {
            "text/plain": [
              "array([1, 2, 3, 4, 5], dtype=int64)"
            ]
          },
          "execution_count": 28,
          "metadata": {},
          "output_type": "execute_result"
        }
      ],
      "source": [
        "c6=dfc['rating'].unique()\n",
        "c6"
      ]
    },
    {
      "attachments": {},
      "cell_type": "markdown",
      "metadata": {},
      "source": [
        "Edx"
      ]
    },
    {
      "cell_type": "code",
      "execution_count": 29,
      "metadata": {},
      "outputs": [
        {
          "name": "stdout",
          "output_type": "stream",
          "text": [
            "<class 'pandas.core.frame.DataFrame'>\n",
            "RangeIndex: 975 entries, 0 to 974\n",
            "Data columns (total 16 columns):\n",
            " #   Column              Non-Null Count  Dtype \n",
            "---  ------              --------------  ----- \n",
            " 0   title               975 non-null    object\n",
            " 1   summary             975 non-null    object\n",
            " 2   n_enrolled          975 non-null    object\n",
            " 3   course_type         975 non-null    object\n",
            " 4   institution         975 non-null    object\n",
            " 5   instructors         975 non-null    object\n",
            " 6   Level               975 non-null    object\n",
            " 7   subject             975 non-null    object\n",
            " 8   language            975 non-null    object\n",
            " 9   subtitles           975 non-null    object\n",
            " 10  course_effort       975 non-null    object\n",
            " 11  course_length       975 non-null    object\n",
            " 12  price               975 non-null    object\n",
            " 13  course_description  975 non-null    object\n",
            " 14  course_syllabus     975 non-null    object\n",
            " 15  course_url          975 non-null    object\n",
            "dtypes: object(16)\n",
            "memory usage: 122.0+ KB\n"
          ]
        }
      ],
      "source": [
        "dfe.info()"
      ]
    },
    {
      "cell_type": "code",
      "execution_count": 30,
      "metadata": {},
      "outputs": [
        {
          "data": {
            "text/plain": [
              "972"
            ]
          },
          "execution_count": 30,
          "metadata": {},
          "output_type": "execute_result"
        }
      ],
      "source": [
        "e =dfe['title'].unique()\n",
        "e.size"
      ]
    },
    {
      "cell_type": "code",
      "execution_count": 31,
      "metadata": {},
      "outputs": [
        {
          "data": {
            "text/plain": [
              "888"
            ]
          },
          "execution_count": 31,
          "metadata": {},
          "output_type": "execute_result"
        }
      ],
      "source": [
        "e1 =dfe['summary'].unique()\n",
        "e1.size"
      ]
    },
    {
      "cell_type": "code",
      "execution_count": 32,
      "metadata": {},
      "outputs": [
        {
          "data": {
            "text/plain": [
              "850"
            ]
          },
          "execution_count": 32,
          "metadata": {},
          "output_type": "execute_result"
        }
      ],
      "source": [
        "e2=dfe['n_enrolled'].unique()\n",
        "e2.size"
      ]
    },
    {
      "cell_type": "code",
      "execution_count": 33,
      "metadata": {},
      "outputs": [
        {
          "data": {
            "text/plain": [
              "array(['Self-paced on your time', 'Instructor-led on a course schedule'],\n",
              "      dtype=object)"
            ]
          },
          "execution_count": 33,
          "metadata": {},
          "output_type": "execute_result"
        }
      ],
      "source": [
        "e3=dfe['course_type'].unique()\n",
        "e3"
      ]
    },
    {
      "cell_type": "code",
      "execution_count": 34,
      "metadata": {},
      "outputs": [
        {
          "data": {
            "text/plain": [
              "111"
            ]
          },
          "execution_count": 34,
          "metadata": {},
          "output_type": "execute_result"
        }
      ],
      "source": [
        "e4=dfe['institution'].unique()\n",
        "e4.size"
      ]
    },
    {
      "cell_type": "code",
      "execution_count": 35,
      "metadata": {},
      "outputs": [
        {
          "data": {
            "text/plain": [
              "776"
            ]
          },
          "execution_count": 35,
          "metadata": {},
          "output_type": "execute_result"
        }
      ],
      "source": [
        "e5=dfe['instructors'].unique()\n",
        "e5.size"
      ]
    },
    {
      "cell_type": "code",
      "execution_count": 36,
      "metadata": {},
      "outputs": [
        {
          "data": {
            "text/plain": [
              "array(['Introductory', 'Intermediate', 'Advanced'], dtype=object)"
            ]
          },
          "execution_count": 36,
          "metadata": {},
          "output_type": "execute_result"
        }
      ],
      "source": [
        "e6=dfe['Level'].unique()\n",
        "e6"
      ]
    },
    {
      "cell_type": "code",
      "execution_count": 37,
      "metadata": {},
      "outputs": [
        {
          "data": {
            "text/plain": [
              "array(['Education & Teacher Training', 'Computer Science',\n",
              "       'Data Analysis & Statistics', 'Business & Management',\n",
              "       'Communication', 'Health & Safety', 'Math', 'Humanities', 'Ethics',\n",
              "       'Economics & Finance', 'Food & Nutrition',\n",
              "       'Biology & Life Sciences', 'Social Sciences', 'Architecture',\n",
              "       'Medicine', 'Environmental Studies', 'Chemistry', 'Art & Culture',\n",
              "       'Language', 'Engineering', 'Philosophy & Ethics', 'Electronics',\n",
              "       'History', 'Literature', 'Physics', 'Law', 'Design', 'Science',\n",
              "       'Music', 'Energy & Earth Sciences', 'Philanthropy'], dtype=object)"
            ]
          },
          "execution_count": 37,
          "metadata": {},
          "output_type": "execute_result"
        }
      ],
      "source": [
        "e7=dfe['subject'].unique()\n",
        "e7"
      ]
    },
    {
      "cell_type": "code",
      "execution_count": 38,
      "metadata": {},
      "outputs": [
        {
          "data": {
            "text/plain": [
              "array(['English', 'Español', 'Italiano', '日本語', 'Français', '中文',\n",
              "       'Português', 'اللغة العربية', 'Deutsch'], dtype=object)"
            ]
          },
          "execution_count": 38,
          "metadata": {},
          "output_type": "execute_result"
        }
      ],
      "source": [
        "e8=dfe['language'].unique()\n",
        "e8"
      ]
    },
    {
      "cell_type": "code",
      "execution_count": 39,
      "metadata": {},
      "outputs": [
        {
          "data": {
            "text/plain": [
              "34"
            ]
          },
          "execution_count": 39,
          "metadata": {},
          "output_type": "execute_result"
        }
      ],
      "source": [
        "e9=dfe['subtitles'].unique()\n",
        "e9.size"
      ]
    },
    {
      "cell_type": "code",
      "execution_count": 40,
      "metadata": {},
      "outputs": [
        {
          "data": {
            "text/plain": [
              "array(['2–3 hours per week', '2–4 hours per week', '6–18 hours per week',\n",
              "       '10–15 hours per week', '5–7 hours per week',\n",
              "       '8–10 hours per week', '1–3 hours per week', '3–4 hours per week',\n",
              "       '3–5 hours per week', '2–6 hours per week', '1–2 hours per week',\n",
              "       '2–5 hours per week', '4–6 hours per week', '10–30 hours per week',\n",
              "       '6–9 hours per week', '3–6 hours per week', '5–10 hours per week',\n",
              "       '4–5 hours per week', '5–8 hours per week', '5–6 hours per week',\n",
              "       '9–10 hours per week', '4–8 hours per week',\n",
              "       '15–20 hours per week', '6–8 hours per week',\n",
              "       '10–14 hours per week', '10–20 hours per week',\n",
              "       '8–12 hours per week', '4–10 hours per week',\n",
              "       '10–12 hours per week', '7–10 hours per week',\n",
              "       '3–7 hours per week', '1–4 hours per week', '6–10 hours per week',\n",
              "       '1–5 hours per week', '8–9 hours per week', '6–12 hours per week',\n",
              "       '3–8 hours per week', '1–10 hours per week',\n",
              "       '10–18 hours per week', '4–12 hours per week',\n",
              "       '7–14 hours per week', '7–9 hours per week',\n",
              "       '10–11 hours per week', '16–24 hours per week',\n",
              "       '4–7 hours per week', '2–10 hours per week',\n",
              "       '11–13 hours per week', '18–20 hours per week',\n",
              "       '12–16 hours per week', '9–12 hours per week',\n",
              "       '20–28 hours per week', '7–8 hours per week',\n",
              "       '12–20 hours per week'], dtype=object)"
            ]
          },
          "execution_count": 40,
          "metadata": {},
          "output_type": "execute_result"
        }
      ],
      "source": [
        "e10=dfe['course_effort'].unique()\n",
        "e10"
      ]
    },
    {
      "cell_type": "code",
      "execution_count": 41,
      "metadata": {},
      "outputs": [
        {
          "data": {
            "text/plain": [
              "array(['2 Weeks', '7 Weeks', '12 Weeks', '13 Weeks', '4 Weeks', '6 Weeks',\n",
              "       '10 Weeks', '8 Weeks', '5 Weeks', '16 Weeks', '15 Weeks',\n",
              "       '1 Weeks', '11 Weeks', '14 Weeks', '9 Weeks', '3 Weeks',\n",
              "       '18 Weeks', '17 Weeks'], dtype=object)"
            ]
          },
          "execution_count": 41,
          "metadata": {},
          "output_type": "execute_result"
        }
      ],
      "source": [
        "e11=dfe['course_length'].unique()\n",
        "e11"
      ]
    },
    {
      "cell_type": "code",
      "execution_count": 42,
      "metadata": {},
      "outputs": [
        {
          "data": {
            "text/plain": [
              "47"
            ]
          },
          "execution_count": 42,
          "metadata": {},
          "output_type": "execute_result"
        }
      ],
      "source": [
        "e12=dfe['price'].unique()\n",
        "e12.size"
      ]
    },
    {
      "cell_type": "code",
      "execution_count": 43,
      "metadata": {},
      "outputs": [
        {
          "data": {
            "text/plain": [
              "933"
            ]
          },
          "execution_count": 43,
          "metadata": {},
          "output_type": "execute_result"
        }
      ],
      "source": [
        "e13=dfe['course_description'].unique()\n",
        "e13.size"
      ]
    },
    {
      "attachments": {},
      "cell_type": "markdown",
      "metadata": {},
      "source": [
        "Udemy"
      ]
    },
    {
      "cell_type": "code",
      "execution_count": 44,
      "metadata": {},
      "outputs": [
        {
          "name": "stdout",
          "output_type": "stream",
          "text": [
            "<class 'pandas.core.frame.DataFrame'>\n",
            "RangeIndex: 3678 entries, 0 to 3677\n",
            "Data columns (total 12 columns):\n",
            " #   Column               Non-Null Count  Dtype  \n",
            "---  ------               --------------  -----  \n",
            " 0   course_id            3678 non-null   int64  \n",
            " 1   course_title         3678 non-null   object \n",
            " 2   url                  3678 non-null   object \n",
            " 3   is_paid              3678 non-null   bool   \n",
            " 4   price                3678 non-null   int64  \n",
            " 5   num_subscribers      3678 non-null   int64  \n",
            " 6   num_reviews          3678 non-null   int64  \n",
            " 7   num_lectures         3678 non-null   int64  \n",
            " 8   level                3678 non-null   object \n",
            " 9   content_duration     3678 non-null   float64\n",
            " 10  published_timestamp  3678 non-null   object \n",
            " 11  subject              3678 non-null   object \n",
            "dtypes: bool(1), float64(1), int64(5), object(5)\n",
            "memory usage: 319.8+ KB\n"
          ]
        }
      ],
      "source": [
        "dfu.info()"
      ]
    },
    {
      "cell_type": "code",
      "execution_count": 45,
      "metadata": {
        "colab": {
          "base_uri": "https://localhost:8080/"
        },
        "id": "_z88EcJx-3fT",
        "outputId": "a4c7c579-e5ce-4cec-b85b-079acff5c8f8"
      },
      "outputs": [
        {
          "data": {
            "text/plain": [
              "3672"
            ]
          },
          "execution_count": 45,
          "metadata": {},
          "output_type": "execute_result"
        }
      ],
      "source": [
        "u1=dfu['course_id'].unique()\n",
        "u1.size"
      ]
    },
    {
      "cell_type": "code",
      "execution_count": 46,
      "metadata": {},
      "outputs": [
        {
          "data": {
            "text/plain": [
              "3663"
            ]
          },
          "execution_count": 46,
          "metadata": {},
          "output_type": "execute_result"
        }
      ],
      "source": [
        "u2=dfu['course_title'].unique()\n",
        "u2.size"
      ]
    },
    {
      "cell_type": "code",
      "execution_count": 47,
      "metadata": {},
      "outputs": [
        {
          "data": {
            "text/plain": [
              "array([ True, False])"
            ]
          },
          "execution_count": 47,
          "metadata": {},
          "output_type": "execute_result"
        }
      ],
      "source": [
        "u3=dfu['is_paid'].unique()\n",
        "u3"
      ]
    },
    {
      "cell_type": "code",
      "execution_count": 48,
      "metadata": {},
      "outputs": [
        {
          "data": {
            "text/plain": [
              "array([200,  75,  45,  95, 150,  65, 195,  30,  20,  50, 175, 140, 115,\n",
              "       190, 125,  60, 145, 105, 155, 185, 180, 120,  25, 160,  40,   0,\n",
              "       100,  90,  35,  80,  70,  55, 165, 130,  85, 170, 110, 135],\n",
              "      dtype=int64)"
            ]
          },
          "execution_count": 48,
          "metadata": {},
          "output_type": "execute_result"
        }
      ],
      "source": [
        "u4=dfu['price'].unique()\n",
        "u4"
      ]
    },
    {
      "cell_type": "code",
      "execution_count": 49,
      "metadata": {},
      "outputs": [
        {
          "data": {
            "text/plain": [
              "array(['All Levels', 'Intermediate Level', 'Beginner Level',\n",
              "       'Expert Level'], dtype=object)"
            ]
          },
          "execution_count": 49,
          "metadata": {},
          "output_type": "execute_result"
        }
      ],
      "source": [
        "u5=dfu['level'].unique()\n",
        "u5"
      ]
    },
    {
      "cell_type": "code",
      "execution_count": 50,
      "metadata": {},
      "outputs": [
        {
          "data": {
            "text/plain": [
              "2197"
            ]
          },
          "execution_count": 50,
          "metadata": {},
          "output_type": "execute_result"
        }
      ],
      "source": [
        "u6=dfu['num_subscribers'].unique()\n",
        "u6.size"
      ]
    },
    {
      "cell_type": "code",
      "execution_count": 51,
      "metadata": {},
      "outputs": [
        {
          "data": {
            "text/plain": [
              "511"
            ]
          },
          "execution_count": 51,
          "metadata": {},
          "output_type": "execute_result"
        }
      ],
      "source": [
        "u7=dfu['num_reviews'].unique()\n",
        "u7.size"
      ]
    },
    {
      "cell_type": "code",
      "execution_count": 52,
      "metadata": {},
      "outputs": [
        {
          "data": {
            "text/plain": [
              "229"
            ]
          },
          "execution_count": 52,
          "metadata": {},
          "output_type": "execute_result"
        }
      ],
      "source": [
        "u8=dfu['num_lectures'].unique()\n",
        "u8.size"
      ]
    },
    {
      "cell_type": "code",
      "execution_count": 53,
      "metadata": {},
      "outputs": [
        {
          "data": {
            "text/plain": [
              "105"
            ]
          },
          "execution_count": 53,
          "metadata": {},
          "output_type": "execute_result"
        }
      ],
      "source": [
        "u9=dfu['content_duration'].unique()\n",
        "u9.size"
      ]
    },
    {
      "cell_type": "code",
      "execution_count": 54,
      "metadata": {},
      "outputs": [
        {
          "data": {
            "text/plain": [
              "3672"
            ]
          },
          "execution_count": 54,
          "metadata": {},
          "output_type": "execute_result"
        }
      ],
      "source": [
        "u10=dfu['published_timestamp'].unique()\n",
        "u10.size"
      ]
    },
    {
      "cell_type": "code",
      "execution_count": 55,
      "metadata": {},
      "outputs": [
        {
          "data": {
            "text/plain": [
              "array(['Business Finance', 'Graphic Design', 'Musical Instruments',\n",
              "       'Web Development'], dtype=object)"
            ]
          },
          "execution_count": 55,
          "metadata": {},
          "output_type": "execute_result"
        }
      ],
      "source": [
        "u11=dfu['subject'].unique()\n",
        "u11\n",
        " "
      ]
    },
    {
      "attachments": {},
      "cell_type": "markdown",
      "metadata": {
        "id": "XtnUElLv_7Ug"
      },
      "source": [
        "Nos encontramos que existen valores a los que debemos cambiarle el tipo para hacer el análisis."
      ]
    },
    {
      "cell_type": "code",
      "execution_count": 56,
      "metadata": {},
      "outputs": [],
      "source": [
        "dfc['rating'] = dfc['rating'].astype(str).astype(int)"
      ]
    },
    {
      "cell_type": "code",
      "execution_count": 57,
      "metadata": {
        "colab": {
          "base_uri": "https://localhost:8080/",
          "height": 517
        },
        "id": "LVrw7Wfd-p7C",
        "outputId": "ea7aebdf-07b9-4bc9-bdcf-484b557c8e95"
      },
      "outputs": [],
      "source": [
        "dfc['date_reviews'] = pd.to_datetime(dfc['date_reviews'])"
      ]
    },
    {
      "cell_type": "code",
      "execution_count": 58,
      "metadata": {},
      "outputs": [],
      "source": [
        "dfu['published_timestamp'] = pd.to_datetime(dfu['published_timestamp'])"
      ]
    },
    {
      "attachments": {},
      "cell_type": "markdown",
      "metadata": {},
      "source": [
        "Hay columnas que contienen datos numéricos dentro por lo que porcedemos a extraerlos."
      ]
    },
    {
      "cell_type": "code",
      "execution_count": 59,
      "metadata": {
        "colab": {
          "base_uri": "https://localhost:8080/",
          "height": 600
        },
        "id": "t90mZ28b-4_Q",
        "outputId": "7de16b33-b022-411d-c583-d6600683bf05"
      },
      "outputs": [
        {
          "data": {
            "text/html": [
              "<div>\n",
              "<style scoped>\n",
              "    .dataframe tbody tr th:only-of-type {\n",
              "        vertical-align: middle;\n",
              "    }\n",
              "\n",
              "    .dataframe tbody tr th {\n",
              "        vertical-align: top;\n",
              "    }\n",
              "\n",
              "    .dataframe thead th {\n",
              "        text-align: right;\n",
              "    }\n",
              "</style>\n",
              "<table border=\"1\" class=\"dataframe\">\n",
              "  <thead>\n",
              "    <tr style=\"text-align: right;\">\n",
              "      <th></th>\n",
              "      <th>title</th>\n",
              "      <th>summary</th>\n",
              "      <th>n_enrolled</th>\n",
              "      <th>course_type</th>\n",
              "      <th>institution</th>\n",
              "      <th>instructors</th>\n",
              "      <th>Level</th>\n",
              "      <th>subject</th>\n",
              "      <th>language</th>\n",
              "      <th>subtitles</th>\n",
              "      <th>course_effort</th>\n",
              "      <th>course_length</th>\n",
              "      <th>price</th>\n",
              "      <th>course_description</th>\n",
              "      <th>course_syllabus</th>\n",
              "      <th>course_url</th>\n",
              "      <th>duration_week</th>\n",
              "    </tr>\n",
              "  </thead>\n",
              "  <tbody>\n",
              "    <tr>\n",
              "      <th>0</th>\n",
              "      <td>How to Learn Online</td>\n",
              "      <td>Learn essential strategies for successful onli...</td>\n",
              "      <td>124,980</td>\n",
              "      <td>Self-paced on your time</td>\n",
              "      <td>edX</td>\n",
              "      <td>Nina Huntemann-Robyn Belair-Ben Piscopo</td>\n",
              "      <td>Introductory</td>\n",
              "      <td>Education &amp; Teacher Training</td>\n",
              "      <td>English</td>\n",
              "      <td>English</td>\n",
              "      <td>2–3 hours per week</td>\n",
              "      <td>2 Weeks</td>\n",
              "      <td>FREE-Add a Verified Certificate for $49 USD</td>\n",
              "      <td>Designed for those who are new to elearning, t...</td>\n",
              "      <td>Welcome - We start with opportunities to meet ...</td>\n",
              "      <td>https://www.edx.org/course/how-to-learn-online</td>\n",
              "      <td>2</td>\n",
              "    </tr>\n",
              "    <tr>\n",
              "      <th>1</th>\n",
              "      <td>Programming for Everybody (Getting Started wit...</td>\n",
              "      <td>This course is a \"no prerequisite\" introductio...</td>\n",
              "      <td>293,864</td>\n",
              "      <td>Self-paced on your time</td>\n",
              "      <td>The University of Michigan</td>\n",
              "      <td>Charles Severance</td>\n",
              "      <td>Introductory</td>\n",
              "      <td>Computer Science</td>\n",
              "      <td>English</td>\n",
              "      <td>English</td>\n",
              "      <td>2–4 hours per week</td>\n",
              "      <td>7 Weeks</td>\n",
              "      <td>FREE-Add a Verified Certificate for $49 USD</td>\n",
              "      <td>This course aims to teach everyone the basics ...</td>\n",
              "      <td>Sin_Datos</td>\n",
              "      <td>https://www.edx.org/course/programming-for-eve...</td>\n",
              "      <td>7</td>\n",
              "    </tr>\n",
              "    <tr>\n",
              "      <th>2</th>\n",
              "      <td>CS50's Introduction to Computer Science</td>\n",
              "      <td>An introduction to the intellectual enterprise...</td>\n",
              "      <td>2,442,271</td>\n",
              "      <td>Self-paced on your time</td>\n",
              "      <td>Harvard University</td>\n",
              "      <td>David J. Malan-Doug Lloyd-Brian Yu</td>\n",
              "      <td>Introductory</td>\n",
              "      <td>Computer Science</td>\n",
              "      <td>English</td>\n",
              "      <td>English</td>\n",
              "      <td>6–18 hours per week</td>\n",
              "      <td>12 Weeks</td>\n",
              "      <td>FREE-Add a Verified Certificate for $90 USD</td>\n",
              "      <td>This is CS50x , Harvard University's introduct...</td>\n",
              "      <td>Sin_Datos</td>\n",
              "      <td>https://www.edx.org/course/cs50s-introduction-...</td>\n",
              "      <td>12</td>\n",
              "    </tr>\n",
              "    <tr>\n",
              "      <th>3</th>\n",
              "      <td>The Analytics Edge</td>\n",
              "      <td>Through inspiring examples and stories, discov...</td>\n",
              "      <td>129,555</td>\n",
              "      <td>Instructor-led on a course schedule</td>\n",
              "      <td>Massachusetts Institute of Technology</td>\n",
              "      <td>Dimitris Bertsimas-Allison O'Hair-John Silberh...</td>\n",
              "      <td>Intermediate</td>\n",
              "      <td>Data Analysis &amp; Statistics</td>\n",
              "      <td>English</td>\n",
              "      <td>English</td>\n",
              "      <td>10–15 hours per week</td>\n",
              "      <td>13 Weeks</td>\n",
              "      <td>FREE-Add a Verified Certificate for $199 USD</td>\n",
              "      <td>In the last decade, the amount of data availab...</td>\n",
              "      <td>Sin_Datos</td>\n",
              "      <td>https://www.edx.org/course/the-analytics-edge</td>\n",
              "      <td>13</td>\n",
              "    </tr>\n",
              "    <tr>\n",
              "      <th>4</th>\n",
              "      <td>Marketing Analytics: Marketing Measurement Str...</td>\n",
              "      <td>This course is part of a MicroMasters® Program</td>\n",
              "      <td>81,140</td>\n",
              "      <td>Self-paced on your time</td>\n",
              "      <td>University of California, Berkeley</td>\n",
              "      <td>Stephan Sorger</td>\n",
              "      <td>Introductory</td>\n",
              "      <td>Computer Science</td>\n",
              "      <td>English</td>\n",
              "      <td>English</td>\n",
              "      <td>5–7 hours per week</td>\n",
              "      <td>4 Weeks</td>\n",
              "      <td>FREE-Add a Verified Certificate for $249 USD</td>\n",
              "      <td>Begin your journey in a new career in marketin...</td>\n",
              "      <td>Sin_Datos</td>\n",
              "      <td>https://www.edx.org/course/marketing-analytics...</td>\n",
              "      <td>4</td>\n",
              "    </tr>\n",
              "  </tbody>\n",
              "</table>\n",
              "</div>"
            ],
            "text/plain": [
              "                                               title  \\\n",
              "0                                How to Learn Online   \n",
              "1  Programming for Everybody (Getting Started wit...   \n",
              "2            CS50's Introduction to Computer Science   \n",
              "3                                 The Analytics Edge   \n",
              "4  Marketing Analytics: Marketing Measurement Str...   \n",
              "\n",
              "                                             summary n_enrolled  \\\n",
              "0  Learn essential strategies for successful onli...    124,980   \n",
              "1  This course is a \"no prerequisite\" introductio...    293,864   \n",
              "2  An introduction to the intellectual enterprise...  2,442,271   \n",
              "3  Through inspiring examples and stories, discov...    129,555   \n",
              "4     This course is part of a MicroMasters® Program     81,140   \n",
              "\n",
              "                           course_type                            institution  \\\n",
              "0              Self-paced on your time                                    edX   \n",
              "1              Self-paced on your time             The University of Michigan   \n",
              "2              Self-paced on your time                     Harvard University   \n",
              "3  Instructor-led on a course schedule  Massachusetts Institute of Technology   \n",
              "4              Self-paced on your time     University of California, Berkeley   \n",
              "\n",
              "                                         instructors         Level  \\\n",
              "0            Nina Huntemann-Robyn Belair-Ben Piscopo  Introductory   \n",
              "1                                  Charles Severance  Introductory   \n",
              "2                 David J. Malan-Doug Lloyd-Brian Yu  Introductory   \n",
              "3  Dimitris Bertsimas-Allison O'Hair-John Silberh...  Intermediate   \n",
              "4                                     Stephan Sorger  Introductory   \n",
              "\n",
              "                        subject language subtitles         course_effort  \\\n",
              "0  Education & Teacher Training  English   English    2–3 hours per week   \n",
              "1              Computer Science  English   English    2–4 hours per week   \n",
              "2              Computer Science  English   English   6–18 hours per week   \n",
              "3    Data Analysis & Statistics  English   English  10–15 hours per week   \n",
              "4              Computer Science  English   English    5–7 hours per week   \n",
              "\n",
              "  course_length                                         price  \\\n",
              "0       2 Weeks   FREE-Add a Verified Certificate for $49 USD   \n",
              "1       7 Weeks   FREE-Add a Verified Certificate for $49 USD   \n",
              "2      12 Weeks   FREE-Add a Verified Certificate for $90 USD   \n",
              "3      13 Weeks  FREE-Add a Verified Certificate for $199 USD   \n",
              "4       4 Weeks  FREE-Add a Verified Certificate for $249 USD   \n",
              "\n",
              "                                  course_description  \\\n",
              "0  Designed for those who are new to elearning, t...   \n",
              "1  This course aims to teach everyone the basics ...   \n",
              "2  This is CS50x , Harvard University's introduct...   \n",
              "3  In the last decade, the amount of data availab...   \n",
              "4  Begin your journey in a new career in marketin...   \n",
              "\n",
              "                                     course_syllabus  \\\n",
              "0  Welcome - We start with opportunities to meet ...   \n",
              "1                                          Sin_Datos   \n",
              "2                                          Sin_Datos   \n",
              "3                                          Sin_Datos   \n",
              "4                                          Sin_Datos   \n",
              "\n",
              "                                          course_url duration_week  \n",
              "0     https://www.edx.org/course/how-to-learn-online             2  \n",
              "1  https://www.edx.org/course/programming-for-eve...             7  \n",
              "2  https://www.edx.org/course/cs50s-introduction-...            12  \n",
              "3      https://www.edx.org/course/the-analytics-edge            13  \n",
              "4  https://www.edx.org/course/marketing-analytics...             4  "
            ]
          },
          "execution_count": 59,
          "metadata": {},
          "output_type": "execute_result"
        }
      ],
      "source": [
        "cl= dfe[\"course_length\"].str.split(expand = True) #Divide el contenido de la celda por espacio.\n",
        "cl.columns = ['duration_week', 'time']\n",
        "d=cl['duration_week']\n",
        "dfe = pd.concat([dfe, d], axis=1)\n",
        "dfe.head(5)"
      ]
    },
    {
      "cell_type": "code",
      "execution_count": 60,
      "metadata": {
        "colab": {
          "base_uri": "https://localhost:8080/",
          "height": 113
        },
        "id": "8EpYC5yIAko0",
        "outputId": "d2d96571-02e6-4af9-c5ca-bde13f7d8ba8"
      },
      "outputs": [
        {
          "data": {
            "text/html": [
              "<div>\n",
              "<style scoped>\n",
              "    .dataframe tbody tr th:only-of-type {\n",
              "        vertical-align: middle;\n",
              "    }\n",
              "\n",
              "    .dataframe tbody tr th {\n",
              "        vertical-align: top;\n",
              "    }\n",
              "\n",
              "    .dataframe thead th {\n",
              "        text-align: right;\n",
              "    }\n",
              "</style>\n",
              "<table border=\"1\" class=\"dataframe\">\n",
              "  <thead>\n",
              "    <tr style=\"text-align: right;\">\n",
              "      <th></th>\n",
              "      <th>title</th>\n",
              "      <th>summary</th>\n",
              "      <th>n_enrolled</th>\n",
              "      <th>course_type</th>\n",
              "      <th>institution</th>\n",
              "      <th>instructors</th>\n",
              "      <th>Level</th>\n",
              "      <th>subject</th>\n",
              "      <th>language</th>\n",
              "      <th>subtitles</th>\n",
              "      <th>course_effort</th>\n",
              "      <th>course_length</th>\n",
              "      <th>price</th>\n",
              "      <th>course_description</th>\n",
              "      <th>course_syllabus</th>\n",
              "      <th>course_url</th>\n",
              "      <th>duration_week</th>\n",
              "      <th>precio</th>\n",
              "    </tr>\n",
              "  </thead>\n",
              "  <tbody>\n",
              "    <tr>\n",
              "      <th>0</th>\n",
              "      <td>How to Learn Online</td>\n",
              "      <td>Learn essential strategies for successful onli...</td>\n",
              "      <td>124,980</td>\n",
              "      <td>Self-paced on your time</td>\n",
              "      <td>edX</td>\n",
              "      <td>Nina Huntemann-Robyn Belair-Ben Piscopo</td>\n",
              "      <td>Introductory</td>\n",
              "      <td>Education &amp; Teacher Training</td>\n",
              "      <td>English</td>\n",
              "      <td>English</td>\n",
              "      <td>2–3 hours per week</td>\n",
              "      <td>2 Weeks</td>\n",
              "      <td>FREE-Add a Verified Certificate for $49 USD</td>\n",
              "      <td>Designed for those who are new to elearning, t...</td>\n",
              "      <td>Welcome - We start with opportunities to meet ...</td>\n",
              "      <td>https://www.edx.org/course/how-to-learn-online</td>\n",
              "      <td>2</td>\n",
              "      <td>49</td>\n",
              "    </tr>\n",
              "    <tr>\n",
              "      <th>1</th>\n",
              "      <td>Programming for Everybody (Getting Started wit...</td>\n",
              "      <td>This course is a \"no prerequisite\" introductio...</td>\n",
              "      <td>293,864</td>\n",
              "      <td>Self-paced on your time</td>\n",
              "      <td>The University of Michigan</td>\n",
              "      <td>Charles Severance</td>\n",
              "      <td>Introductory</td>\n",
              "      <td>Computer Science</td>\n",
              "      <td>English</td>\n",
              "      <td>English</td>\n",
              "      <td>2–4 hours per week</td>\n",
              "      <td>7 Weeks</td>\n",
              "      <td>FREE-Add a Verified Certificate for $49 USD</td>\n",
              "      <td>This course aims to teach everyone the basics ...</td>\n",
              "      <td>Sin_Datos</td>\n",
              "      <td>https://www.edx.org/course/programming-for-eve...</td>\n",
              "      <td>7</td>\n",
              "      <td>49</td>\n",
              "    </tr>\n",
              "    <tr>\n",
              "      <th>2</th>\n",
              "      <td>CS50's Introduction to Computer Science</td>\n",
              "      <td>An introduction to the intellectual enterprise...</td>\n",
              "      <td>2,442,271</td>\n",
              "      <td>Self-paced on your time</td>\n",
              "      <td>Harvard University</td>\n",
              "      <td>David J. Malan-Doug Lloyd-Brian Yu</td>\n",
              "      <td>Introductory</td>\n",
              "      <td>Computer Science</td>\n",
              "      <td>English</td>\n",
              "      <td>English</td>\n",
              "      <td>6–18 hours per week</td>\n",
              "      <td>12 Weeks</td>\n",
              "      <td>FREE-Add a Verified Certificate for $90 USD</td>\n",
              "      <td>This is CS50x , Harvard University's introduct...</td>\n",
              "      <td>Sin_Datos</td>\n",
              "      <td>https://www.edx.org/course/cs50s-introduction-...</td>\n",
              "      <td>12</td>\n",
              "      <td>90</td>\n",
              "    </tr>\n",
              "    <tr>\n",
              "      <th>3</th>\n",
              "      <td>The Analytics Edge</td>\n",
              "      <td>Through inspiring examples and stories, discov...</td>\n",
              "      <td>129,555</td>\n",
              "      <td>Instructor-led on a course schedule</td>\n",
              "      <td>Massachusetts Institute of Technology</td>\n",
              "      <td>Dimitris Bertsimas-Allison O'Hair-John Silberh...</td>\n",
              "      <td>Intermediate</td>\n",
              "      <td>Data Analysis &amp; Statistics</td>\n",
              "      <td>English</td>\n",
              "      <td>English</td>\n",
              "      <td>10–15 hours per week</td>\n",
              "      <td>13 Weeks</td>\n",
              "      <td>FREE-Add a Verified Certificate for $199 USD</td>\n",
              "      <td>In the last decade, the amount of data availab...</td>\n",
              "      <td>Sin_Datos</td>\n",
              "      <td>https://www.edx.org/course/the-analytics-edge</td>\n",
              "      <td>13</td>\n",
              "      <td>199</td>\n",
              "    </tr>\n",
              "    <tr>\n",
              "      <th>4</th>\n",
              "      <td>Marketing Analytics: Marketing Measurement Str...</td>\n",
              "      <td>This course is part of a MicroMasters® Program</td>\n",
              "      <td>81,140</td>\n",
              "      <td>Self-paced on your time</td>\n",
              "      <td>University of California, Berkeley</td>\n",
              "      <td>Stephan Sorger</td>\n",
              "      <td>Introductory</td>\n",
              "      <td>Computer Science</td>\n",
              "      <td>English</td>\n",
              "      <td>English</td>\n",
              "      <td>5–7 hours per week</td>\n",
              "      <td>4 Weeks</td>\n",
              "      <td>FREE-Add a Verified Certificate for $249 USD</td>\n",
              "      <td>Begin your journey in a new career in marketin...</td>\n",
              "      <td>Sin_Datos</td>\n",
              "      <td>https://www.edx.org/course/marketing-analytics...</td>\n",
              "      <td>4</td>\n",
              "      <td>249</td>\n",
              "    </tr>\n",
              "  </tbody>\n",
              "</table>\n",
              "</div>"
            ],
            "text/plain": [
              "                                               title  \\\n",
              "0                                How to Learn Online   \n",
              "1  Programming for Everybody (Getting Started wit...   \n",
              "2            CS50's Introduction to Computer Science   \n",
              "3                                 The Analytics Edge   \n",
              "4  Marketing Analytics: Marketing Measurement Str...   \n",
              "\n",
              "                                             summary n_enrolled  \\\n",
              "0  Learn essential strategies for successful onli...    124,980   \n",
              "1  This course is a \"no prerequisite\" introductio...    293,864   \n",
              "2  An introduction to the intellectual enterprise...  2,442,271   \n",
              "3  Through inspiring examples and stories, discov...    129,555   \n",
              "4     This course is part of a MicroMasters® Program     81,140   \n",
              "\n",
              "                           course_type                            institution  \\\n",
              "0              Self-paced on your time                                    edX   \n",
              "1              Self-paced on your time             The University of Michigan   \n",
              "2              Self-paced on your time                     Harvard University   \n",
              "3  Instructor-led on a course schedule  Massachusetts Institute of Technology   \n",
              "4              Self-paced on your time     University of California, Berkeley   \n",
              "\n",
              "                                         instructors         Level  \\\n",
              "0            Nina Huntemann-Robyn Belair-Ben Piscopo  Introductory   \n",
              "1                                  Charles Severance  Introductory   \n",
              "2                 David J. Malan-Doug Lloyd-Brian Yu  Introductory   \n",
              "3  Dimitris Bertsimas-Allison O'Hair-John Silberh...  Intermediate   \n",
              "4                                     Stephan Sorger  Introductory   \n",
              "\n",
              "                        subject language subtitles         course_effort  \\\n",
              "0  Education & Teacher Training  English   English    2–3 hours per week   \n",
              "1              Computer Science  English   English    2–4 hours per week   \n",
              "2              Computer Science  English   English   6–18 hours per week   \n",
              "3    Data Analysis & Statistics  English   English  10–15 hours per week   \n",
              "4              Computer Science  English   English    5–7 hours per week   \n",
              "\n",
              "  course_length                                         price  \\\n",
              "0       2 Weeks   FREE-Add a Verified Certificate for $49 USD   \n",
              "1       7 Weeks   FREE-Add a Verified Certificate for $49 USD   \n",
              "2      12 Weeks   FREE-Add a Verified Certificate for $90 USD   \n",
              "3      13 Weeks  FREE-Add a Verified Certificate for $199 USD   \n",
              "4       4 Weeks  FREE-Add a Verified Certificate for $249 USD   \n",
              "\n",
              "                                  course_description  \\\n",
              "0  Designed for those who are new to elearning, t...   \n",
              "1  This course aims to teach everyone the basics ...   \n",
              "2  This is CS50x , Harvard University's introduct...   \n",
              "3  In the last decade, the amount of data availab...   \n",
              "4  Begin your journey in a new career in marketin...   \n",
              "\n",
              "                                     course_syllabus  \\\n",
              "0  Welcome - We start with opportunities to meet ...   \n",
              "1                                          Sin_Datos   \n",
              "2                                          Sin_Datos   \n",
              "3                                          Sin_Datos   \n",
              "4                                          Sin_Datos   \n",
              "\n",
              "                                          course_url duration_week precio  \n",
              "0     https://www.edx.org/course/how-to-learn-online             2     49  \n",
              "1  https://www.edx.org/course/programming-for-eve...             7     49  \n",
              "2  https://www.edx.org/course/cs50s-introduction-...            12     90  \n",
              "3      https://www.edx.org/course/the-analytics-edge            13    199  \n",
              "4  https://www.edx.org/course/marketing-analytics...             4    249  "
            ]
          },
          "execution_count": 60,
          "metadata": {},
          "output_type": "execute_result"
        }
      ],
      "source": [
        "p= dfe[\"price\"].str.split('\\D+',expand = True) #Extrae los numeros de una linea de str\n",
        "p.columns = ['0', 'precio','1','2']\n",
        "pr=p['precio']\n",
        "dfe = pd.concat([dfe, pr], axis=1)\n",
        "dfe.head(5)"
      ]
    },
    {
      "cell_type": "markdown",
      "metadata": {
        "id": "uKa7lA8OUhq4"
      },
      "source": [
        "Analizamos si existen registros duplicados en todo el dataframe y los eliminamos.\n"
      ]
    },
    {
      "cell_type": "code",
      "execution_count": 61,
      "metadata": {
        "colab": {
          "base_uri": "https://localhost:8080/"
        },
        "id": "H23PCfwGUepq",
        "outputId": "be3143ca-e4ae-4310-9403-da6b92ff553c"
      },
      "outputs": [
        {
          "data": {
            "text/plain": [
              "(934764, 1, 6)"
            ]
          },
          "execution_count": 61,
          "metadata": {},
          "output_type": "execute_result"
        }
      ],
      "source": [
        "dfc.duplicated().sum(),dfe.duplicated().sum(),dfu.duplicated().sum()"
      ]
    },
    {
      "cell_type": "code",
      "execution_count": 62,
      "metadata": {
        "id": "hQ2c2Qi4VbKA"
      },
      "outputs": [],
      "source": [
        "dfc.drop_duplicates(inplace=True)\n",
        "dfe.drop_duplicates(inplace=True)\n",
        "dfu.drop_duplicates(inplace=True)"
      ]
    },
    {
      "cell_type": "code",
      "execution_count": 63,
      "metadata": {},
      "outputs": [
        {
          "data": {
            "text/plain": [
              "(0, 0, 0)"
            ]
          },
          "execution_count": 63,
          "metadata": {},
          "output_type": "execute_result"
        }
      ],
      "source": [
        "dfc.duplicated().sum(),dfe.duplicated().sum(),dfu.duplicated().sum()"
      ]
    },
    {
      "attachments": {},
      "cell_type": "markdown",
      "metadata": {},
      "source": [
        "Vamos a generar un dataframe con los titulos para la nube de palabras\n",
        "\n",
        "titulos['Titulo']= pd.concat([dfc['course_id'],dfe['title']'course_url' dfe['title'],dfu['course_title']], axis=0)"
      ]
    },
    {
      "cell_type": "code",
      "execution_count": 64,
      "metadata": {},
      "outputs": [],
      "source": [
        "titulos= pd.concat([dfc['name'],dfe['title'],dfu['course_title']], axis=0)"
      ]
    },
    {
      "cell_type": "code",
      "execution_count": 65,
      "metadata": {},
      "outputs": [],
      "source": [
        "df_titulos = pd.Series(titulos)"
      ]
    },
    {
      "cell_type": "code",
      "execution_count": 66,
      "metadata": {},
      "outputs": [],
      "source": [
        "df_titulos.to_csv('df_titulos.csv', index=False)"
      ]
    },
    {
      "attachments": {},
      "cell_type": "markdown",
      "metadata": {},
      "source": [
        "Finalizado el EDA decidimos con que columnas queremos trabajar de cada Dataframe y lo exportamos a CSV para continuar en PowerBI"
      ]
    },
    {
      "cell_type": "code",
      "execution_count": 67,
      "metadata": {},
      "outputs": [],
      "source": [
        "dfc.drop(['course_url'], axis=1,inplace=True)"
      ]
    },
    {
      "cell_type": "code",
      "execution_count": 68,
      "metadata": {},
      "outputs": [],
      "source": [
        "dfe.drop(['summary', 'instructors','subtitles','course_length','price','course_description','course_syllabus'], axis=1,inplace=True)"
      ]
    },
    {
      "cell_type": "code",
      "execution_count": 69,
      "metadata": {},
      "outputs": [],
      "source": [
        "dfu.drop([ 'url','course_title'], axis=1,inplace=True)"
      ]
    },
    {
      "cell_type": "code",
      "execution_count": 70,
      "metadata": {},
      "outputs": [],
      "source": [
        "dfc.to_csv('df_coursera.csv', index=False)\n",
        "dfe.to_csv('df_edx.csv', index=False)\n",
        "dfu.to_csv('df_udemy.csv', index=False)"
      ]
    }
  ],
  "metadata": {
    "colab": {
      "provenance": [],
      "toc_visible": true
    },
    "kernelspec": {
      "display_name": "Python 3",
      "language": "python",
      "name": "python3"
    },
    "language_info": {
      "codemirror_mode": {
        "name": "ipython",
        "version": 3
      },
      "file_extension": ".py",
      "mimetype": "text/x-python",
      "name": "python",
      "nbconvert_exporter": "python",
      "pygments_lexer": "ipython3",
      "version": "3.10.6"
    },
    "vscode": {
      "interpreter": {
        "hash": "76d7c06053c3456e5600312cec90888656fc0ed30c03d8425b9dac6e4fc8e014"
      }
    }
  },
  "nbformat": 4,
  "nbformat_minor": 0
}
